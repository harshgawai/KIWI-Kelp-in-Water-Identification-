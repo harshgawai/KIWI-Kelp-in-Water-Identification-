{
 "cells": [
  {
   "cell_type": "code",
   "execution_count": 133,
   "metadata": {
    "collapsed": true
   },
   "outputs": [],
   "source": [
    "import pandas as pd\n",
    "import cv2"
   ]
  },
  {
   "cell_type": "code",
   "execution_count": 146,
   "outputs": [
    {
     "data": {
      "text/plain": "23.976023976023978"
     },
     "execution_count": 146,
     "metadata": {},
     "output_type": "execute_result"
    }
   ],
   "source": [
    "cap = cv2.VideoCapture('HalibutI_9m_08-07-18_AB.MP4')\n",
    "framerate = cap.get(cv2.CAP_PROP_FPS)\n",
    "framerate"
   ],
   "metadata": {
    "collapsed": false,
    "pycharm": {
     "name": "#%%\n"
    }
   }
  },
  {
   "cell_type": "code",
   "execution_count": 144,
   "outputs": [],
   "source": [
    "frame1 = 9 * 24\n",
    "frame2 = 11 * 24\n",
    "available_frame = 10 * 24"
   ],
   "metadata": {
    "collapsed": false,
    "pycharm": {
     "name": "#%%\n"
    }
   }
  },
  {
   "cell_type": "code",
   "execution_count": 145,
   "outputs": [
    {
     "ename": "error",
     "evalue": "OpenCV(4.5.5) D:\\a\\opencv-python\\opencv-python\\opencv\\modules\\imgcodecs\\src\\loadsave.cpp:801: error: (-215:Assertion failed) !_img.empty() in function 'cv::imwrite'\n",
     "output_type": "error",
     "traceback": [
      "\u001B[1;31m---------------------------------------------------------------------------\u001B[0m",
      "\u001B[1;31merror\u001B[0m                                     Traceback (most recent call last)",
      "Input \u001B[1;32mIn [145]\u001B[0m, in \u001B[0;36m<cell line: 8>\u001B[1;34m()\u001B[0m\n\u001B[0;32m     18\u001B[0m     total_before \u001B[38;5;241m=\u001B[39m \u001B[38;5;241m0\u001B[39m\n\u001B[0;32m     19\u001B[0m     image_name \u001B[38;5;241m=\u001B[39m  \u001B[38;5;124m\"\u001B[39m\u001B[38;5;124mD:/Kelp Species Detection/OneDrive_2022-03-25/KIWI training data/AugmentedData/test/\u001B[39m\u001B[38;5;124m\"\u001B[39m \u001B[38;5;241m+\u001B[39m \u001B[38;5;124m\"\u001B[39m\u001B[38;5;124mBefore \u001B[39m\u001B[38;5;124m\"\u001B[39m \u001B[38;5;241m+\u001B[39m \u001B[38;5;28mstr\u001B[39m(id1) \u001B[38;5;241m+\u001B[39m\u001B[38;5;124m'\u001B[39m\u001B[38;5;124m.jpg\u001B[39m\u001B[38;5;124m'\u001B[39m\n\u001B[1;32m---> 20\u001B[0m     \u001B[43mcv2\u001B[49m\u001B[38;5;241;43m.\u001B[39;49m\u001B[43mimwrite\u001B[49m\u001B[43m(\u001B[49m\u001B[43mimage_name\u001B[49m\u001B[43m,\u001B[49m\u001B[43m \u001B[49m\u001B[43mframe\u001B[49m\u001B[43m)\u001B[49m\n\u001B[0;32m     22\u001B[0m \u001B[38;5;28;01mif\u001B[39;00m(total_current \u001B[38;5;241m==\u001B[39m available_frame):\n\u001B[0;32m     23\u001B[0m     id2 \u001B[38;5;241m+\u001B[39m\u001B[38;5;241m=\u001B[39m \u001B[38;5;241m1\u001B[39m\n",
      "\u001B[1;31merror\u001B[0m: OpenCV(4.5.5) D:\\a\\opencv-python\\opencv-python\\opencv\\modules\\imgcodecs\\src\\loadsave.cpp:801: error: (-215:Assertion failed) !_img.empty() in function 'cv::imwrite'\n"
     ]
    }
   ],
   "source": [
    "total_before = 0\n",
    "total_current = 0\n",
    "total_after = 0\n",
    "start=0\n",
    "id1 = 0\n",
    "id2 = 0\n",
    "id3 = 0\n",
    "while(True):\n",
    "    ret, frame = cap.read()\n",
    "\n",
    "    start += 1\n",
    "    if(start>=120): #To start extracting after 5 sec thats what original data is extracted after 5 sec\n",
    "        total_current+=1\n",
    "        total_before += 1\n",
    "        total_after += 1\n",
    "        if(total_before==frame1):\n",
    "            id1 += 1\n",
    "            total_before = 0\n",
    "            image_name =  \"D:/Kelp Species Detection/OneDrive_2022-03-25/KIWI training data/AugmentedData/test/\" + \"Before \" + str(id1) +'.jpg'\n",
    "            cv2.imwrite(image_name, frame)\n",
    "\n",
    "        if(total_current == available_frame):\n",
    "            id2 += 1\n",
    "            total_current = 0\n",
    "            image_name = \"D:/Kelp Species Detection/OneDrive_2022-03-25/KIWI training data/AugmentedData/test/\" + \"Original \" + str(id2) +'.jpg'\n",
    "            cv2.imwrite(image_name, frame)\n",
    "        if(total_after == frame2):\n",
    "            id3 += 1\n",
    "            total_after = 0\n",
    "            image_name = \"D:/Kelp Species Detection/OneDrive_2022-03-25/KIWI training data/AugmentedData/test/\" + \"After \" + str(id3) +'.jpg'\n",
    "            cv2.imwrite(image_name, frame)\n",
    "\n",
    "    if cv2.waitKey(1) & 0xFF == ord('q'):\n",
    "          break\n",
    "\n",
    "cap.release()\n",
    "cv2.destroyAllWindows()"
   ],
   "metadata": {
    "collapsed": false,
    "pycharm": {
     "name": "#%%\n"
    }
   }
  },
  {
   "cell_type": "code",
   "execution_count": 35,
   "outputs": [],
   "source": [],
   "metadata": {
    "collapsed": false,
    "pycharm": {
     "name": "#%%\n"
    }
   }
  },
  {
   "cell_type": "code",
   "execution_count": null,
   "outputs": [],
   "source": [],
   "metadata": {
    "collapsed": false,
    "pycharm": {
     "name": "#%%\n"
    }
   }
  }
 ],
 "metadata": {
  "kernelspec": {
   "display_name": "Python 3",
   "language": "python",
   "name": "python3"
  },
  "language_info": {
   "codemirror_mode": {
    "name": "ipython",
    "version": 2
   },
   "file_extension": ".py",
   "mimetype": "text/x-python",
   "name": "python",
   "nbconvert_exporter": "python",
   "pygments_lexer": "ipython2",
   "version": "2.7.6"
  }
 },
 "nbformat": 4,
 "nbformat_minor": 0
}